{
 "cells": [
  {
   "cell_type": "code",
   "execution_count": null,
   "metadata": {},
   "outputs": [],
   "source": [
    "from flask import Flask, request, render_template\n",
    "import pandas as pd\n",
    "import numpy as np\n",
    "import pickle\n",
    "from sklearn.preprocessing import MinMaxScaler, LabelEncoder"
   ]
  },
  {
   "cell_type": "code",
   "execution_count": null,
   "metadata": {},
   "outputs": [],
   "source": [
    "app = Flask(__name__)\n",
    "# __name__ is a Flask module which tells where to collect templates and files\n",
    "model = pickle.load(open('RF1','rb'))\n",
    "model"
   ]
  },
  {
   "cell_type": "markdown",
   "metadata": {},
   "source": [
    "## Need to render HTML form here at homepage or home route"
   ]
  },
  {
   "cell_type": "code",
   "execution_count": null,
   "metadata": {},
   "outputs": [],
   "source": [
    "@app.route('/')\n",
    "# as soon as the local url is clicked, it'll bring the to the home page/route (/) and this'll render the html page\n",
    "def getModel():\n",
    "    return(render_template('loanform.html')) # to create HTML file"
   ]
  },
  {
   "cell_type": "code",
   "execution_count": null,
   "metadata": {},
   "outputs": [],
   "source": [
    "cols = ['Dependents', 'Education', 'Self_Employed', 'ApplicantIncome','CoapplicantIncome','LoanAmount', 'Loan_Amount_Term','Credit_History','Property_Area']\n",
    "cols"
   ]
  },
  {
   "cell_type": "code",
   "execution_count": null,
   "metadata": {},
   "outputs": [],
   "source": [
    "@app.route('/prediction', methods = [\"POST\"])\n",
    "# As soon as Get Prediction is clicked, the form action will bring to /prediction url and this function gets executed\n",
    "def predict():\n",
    "    data=pd.read_csv(r\"C:\\Users\\S.Joshi\\Desktop\\Data Science\\DATASETS\\Loan_data.csv\")\n",
    "    # saving mean and standard deviation for each numerical columns from which model is trained to scale down the\n",
    "    # input features in the range of 0-1\n",
    "    \n",
    "    dependents = request.form[\"Dependents\"] # 0, 1, 2 3+ : Label Encoding\n",
    "    education = request.form[\"Education\"] # graduate- 0, not graduate- 1: Label Encoding\n",
    "    selfemp = request.form[\"Self Employed\"] # no- 0, yes- 1: Label Encoding\n",
    "    appincome = float(request.form[\"Applicant Income\"]) # minmax scaler\n",
    "    coappincome = float(request.form[\"Coapplicant Income\"]) # minmax scaler\n",
    "    loanamount = float(request.form[\"Loan Amount\"]) # minmax scaler\n",
    "    loanterm = float(request.form[\"Loan Amount Term\"]) # minmax scaler\n",
    "    credithist = float(request.form[\"Credit History\"])\n",
    "    proparea = request.form[\"Property Area\"] # Label Encoding\n",
    "    \n",
    "    input_variables = []\n",
    "    \n",
    "    if dependents == '0':\n",
    "        dependents=0\n",
    "    elif dependents == '1':\n",
    "        dependents = 1\n",
    "    elif dependents == '2':\n",
    "        dependents = 2\n",
    "    elif dependents == '3 or more':\n",
    "        dependents = 3\n",
    "        \n",
    "    input_variables.append(dependents)\n",
    "    \n",
    "    if education == 'Graduate':\n",
    "        education = 0\n",
    "    elif education == 'Not Graduate':\n",
    "        education = 1\n",
    "    \n",
    "    input_variables.append(education)\n",
    "    \n",
    "    if selfemp == 'No':\n",
    "        selfemp = 0\n",
    "    elif selfemp == 'Yes':\n",
    "        selfemp = 1\n",
    "        \n",
    "    input_variables.append(selfemp)\n",
    "    \n",
    "    applicantincome = (appincome - data['ApplicantIncome'].min())/(data['ApplicantIncome'].max() - data['ApplicantIncome'].min())\n",
    "    input_variables.append(applicantincome)\n",
    "    \n",
    "    coapplicantincome = (coappincome - data['CoapplicantIncome'].min())/(data['CoapplicantIncome'].max() - data['CoapplicantIncome'].min())\n",
    "    input_variables.append(coapplicantincome)\n",
    "    \n",
    "    la = (loanamount - data['LoanAmount'].min())/(data['LoanAmount'].max() - data['LoanAmount'].min())\n",
    "    input_variables.append(la)\n",
    "    \n",
    "    lat = (loanterm - data['Loan_Amount_Term'].min())/(data['Loan_Amount_Term'].max() - data['Loan_Amount_Term'].min())\n",
    "    input_variables.append(lat)\n",
    "    input_variables.append(credithist)\n",
    "    \n",
    "    if proparea == 'Rural':\n",
    "        proparea = 0\n",
    "    elif proparea == 'Semiurban':\n",
    "        proparea = 1\n",
    "    elif proparea == 'Urban':\n",
    "        proparea = 2\n",
    "    \n",
    "    input_variables.append(proparea)\n",
    "    \n",
    "    pred = model.predict([input_variables])\n",
    "    if pred == 0:\n",
    "        return(\"Sorry! You are not eligible for loan\")\n",
    "    else:\n",
    "        return(\"Great! You are eligible for loan\")\n",
    "    \n",
    "            "
   ]
  },
  {
   "cell_type": "code",
   "execution_count": null,
   "metadata": {
    "scrolled": false
   },
   "outputs": [],
   "source": [
    "if __name__ == '__main__':\n",
    "    app.run()"
   ]
  },
  {
   "cell_type": "code",
   "execution_count": null,
   "metadata": {},
   "outputs": [],
   "source": []
  },
  {
   "cell_type": "code",
   "execution_count": null,
   "metadata": {},
   "outputs": [],
   "source": []
  }
 ],
 "metadata": {
  "kernelspec": {
   "display_name": "Python 3",
   "language": "python",
   "name": "python3"
  },
  "language_info": {
   "codemirror_mode": {
    "name": "ipython",
    "version": 3
   },
   "file_extension": ".py",
   "mimetype": "text/x-python",
   "name": "python",
   "nbconvert_exporter": "python",
   "pygments_lexer": "ipython3",
   "version": "3.7.3"
  }
 },
 "nbformat": 4,
 "nbformat_minor": 2
}
